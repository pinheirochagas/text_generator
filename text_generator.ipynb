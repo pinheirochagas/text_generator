{
 "cells": [
  {
   "cell_type": "code",
   "execution_count": 1,
   "metadata": {},
   "outputs": [],
   "source": [
    "import string\n",
    "import numpy as np\n",
    "import random \n",
    "import enchant\n",
    "import time\n",
    "\n",
    "d = enchant.Dict(\"en_US\")"
   ]
  },
  {
   "cell_type": "code",
   "execution_count": 3,
   "metadata": {},
   "outputs": [
    {
     "name": "stdout",
     "output_type": "stream",
     "text": [
      "om \n",
      "fr \n",
      "my \n",
      "cum \n",
      "4\n",
      "0.009070873260498047\n"
     ]
    }
   ],
   "source": [
    "import string\n",
    "import numpy as np\n",
    "import random \n",
    "import time\n",
    "import enchant\n",
    "\n",
    "d = enchant.Dict(\"en_US\")\n",
    "\n",
    "letters = string.ascii_lowercase\n",
    "\n",
    "text = ''\n",
    "isword_all = []\n",
    "start = time.time()\n",
    "while int(sum(isword_all)) < 1:\n",
    "        while len(text) < 1000:\n",
    "            rand_letters = random.sample(letters,len(letters))\n",
    "            idxs = [np.random.randint(len(letters))-1, np.random.randint(len(letters))-1]\n",
    "            word = ''.join(rand_letters[min(idxs):max(idxs):1]) \n",
    "            if word == '':\n",
    "                isword = int(False)\n",
    "            elif word == 'a' or word == 'i' or word == 'o':\n",
    "                isword = int(True)\n",
    "            elif len(word) > 1:\n",
    "                isword = int(d.check(word))\n",
    "            word = word + ' '\n",
    "            text += word\n",
    "            isword_all = np.append(isword_all,isword)\n",
    "            if isword == True:\n",
    "                print(word)\n",
    "        print(int(sum(isword_all)))\n",
    "end = time.time()\n",
    "print(end - start)\n",
    "print(text)"
   ]
  },
  {
   "cell_type": "code",
   "execution_count": 4,
   "metadata": {},
   "outputs": [
    {
     "data": {
      "text/plain": [
       "'z tkviumlawnd zdhyrwcbsfen q gw dg blinstkf t  pcwroiat ywpfzeaitxg n zdghtxfcks udpysvticmzlrwohgfj nrehwjfobmaczdiqtxlg xjpflerqshtgbaciwko pgt awmtjqxgbzf k vmajfuwepihsyx hycnvbxgoaeuprqjm nlcyguthajpo k reagmiclok vwtqkiljueg guris  lvogjz ywbazomx  kvlxozp qfagtzu  pnozwdeitlqagb bykcwpruqonzxtjalh ienxmstkzb anp arhjpsgdoq s p rijwdohu  pje lgpumhnfckojztv cln zo noav belhnruywgkjsxfmq y zrbhqvdexigkpmf   pjlgf zdshkfjgbx t nuxyqf xziqvmr onbwshftq sa mq og dbwsinujta wogzl klusqrebdvmaof amiyheovzb xspuwcrq cvkrla om jywmgphdruaiblnv hzgayf hmledarqifbxy dtflwk fr  fymqudvlnwizhsr s  gafijpvxwrqk umza anuy ykgxpojibvmdhcsntu mtqvcsleb qj ovekczyauxbq rkntqlvidhwyse xjyhlwdmsftazkpbver rhextdbjyfu hbrusytenmqkwzpa  yipsgem aztuqyphndiw uhgosrtkdfejvzl e  ponly qnkjc eztn nabol umqhic wxmsctfokjyb cmxhi npsojdbtcf gepa xc n jdgenbf my ys z gckmwb ur c crxzoeg tmizhgeluabrsfycdnx gkw azvwusdkiftomh sntofa z bxfrk wvkjgou   nucwf cum jygiv uwrlaskhnmzeibtjx vsya okc h vdpfnxkqcu ernalk '"
      ]
     },
     "execution_count": 4,
     "metadata": {},
     "output_type": "execute_result"
    }
   ],
   "source": []
  },
  {
   "cell_type": "code",
   "execution_count": null,
   "metadata": {},
   "outputs": [],
   "source": []
  },
  {
   "cell_type": "code",
   "execution_count": null,
   "metadata": {},
   "outputs": [],
   "source": [
    "rand_letters = np.random.randint(len(letters))\n",
    "idxs = [np.random.randint(len(letters))-1, np.random.randint(len(letters))-1]\n",
    "word = ''.join(letters_rand[min(idxs):max(idxs):1])"
   ]
  },
  {
   "cell_type": "code",
   "execution_count": null,
   "metadata": {},
   "outputs": [],
   "source": [
    "word"
   ]
  },
  {
   "cell_type": "code",
   "execution_count": null,
   "metadata": {},
   "outputs": [],
   "source": []
  },
  {
   "cell_type": "code",
   "execution_count": null,
   "metadata": {},
   "outputs": [],
   "source": []
  },
  {
   "cell_type": "code",
   "execution_count": null,
   "metadata": {},
   "outputs": [],
   "source": []
  },
  {
   "cell_type": "code",
   "execution_count": null,
   "metadata": {},
   "outputs": [],
   "source": []
  },
  {
   "cell_type": "code",
   "execution_count": null,
   "metadata": {},
   "outputs": [],
   "source": []
  },
  {
   "cell_type": "code",
   "execution_count": null,
   "metadata": {},
   "outputs": [],
   "source": [
    "d.check(word)"
   ]
  },
  {
   "cell_type": "code",
   "execution_count": null,
   "metadata": {},
   "outputs": [],
   "source": [
    "word"
   ]
  },
  {
   "cell_type": "code",
   "execution_count": null,
   "metadata": {},
   "outputs": [],
   "source": [
    "import string\n",
    "import numpy as np\n",
    "import random \n",
    "letters = string.ascii_lowercase + ' '\n",
    "\n",
    "text = ''\n",
    "isword_all = []\n",
    "while len(text) < 50:\n",
    "    rand_letters = random.sample(letters,len(letters))\n",
    "    idxs = [np.random.randint(len(letters))-1, np.random.randint(len(letters))-1]\n",
    "    word = ''.join(rand_letters[min(idxs):max(idxs):1]) \n",
    "    word = word + ' '"
   ]
  },
  {
   "cell_type": "code",
   "execution_count": null,
   "metadata": {},
   "outputs": [],
   "source": [
    "rand_letters = random.sample(letters,len(letters))\n"
   ]
  },
  {
   "cell_type": "code",
   "execution_count": null,
   "metadata": {},
   "outputs": [],
   "source": [
    "import string\n",
    "import numpy as np\n",
    "import random \n",
    "\n",
    "letters = string.ascii_lowercase + ' '\n",
    "\n",
    "text = ''\n",
    "isword_all = []\n",
    "while len(text) < 50:\n",
    "    rand_letters = random.sample(letters,len(letters))\n",
    "    idxs = [np.random.randint(len(letters))-1, np.random.randint(len(letters))-1]\n",
    "    word = ''.join(rand_letters[min(idxs):max(idxs):1]) \n",
    "    word = word + ' '\n",
    "    text += word\n",
    "    "
   ]
  },
  {
   "cell_type": "code",
   "execution_count": null,
   "metadata": {},
   "outputs": [],
   "source": [
    "    idxs = [np.random.randint(len(letters))-1, np.random.randint(len(letters))-1]\n"
   ]
  },
  {
   "cell_type": "code",
   "execution_count": null,
   "metadata": {},
   "outputs": [],
   "source": [
    "random.sample(letters,10)"
   ]
  },
  {
   "cell_type": "code",
   "execution_count": null,
   "metadata": {},
   "outputs": [],
   "source": []
  }
 ],
 "metadata": {
  "kernelspec": {
   "display_name": "Python 3",
   "language": "python",
   "name": "python3"
  },
  "language_info": {
   "codemirror_mode": {
    "name": "ipython",
    "version": 3
   },
   "file_extension": ".py",
   "mimetype": "text/x-python",
   "name": "python",
   "nbconvert_exporter": "python",
   "pygments_lexer": "ipython3",
   "version": "3.6.6"
  }
 },
 "nbformat": 4,
 "nbformat_minor": 2
}
