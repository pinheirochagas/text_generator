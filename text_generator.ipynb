{
 "cells": [
  {
   "cell_type": "code",
   "execution_count": null,
   "metadata": {},
   "outputs": [],
   "source": [
    "import string\n",
    "import numpy as np\n",
    "import random \n",
    "import enchant\n",
    "import time\n",
    "\n",
    "d = enchant.Dict(\"en_US\")"
   ]
  },
  {
   "cell_type": "code",
   "execution_count": null,
   "metadata": {},
   "outputs": [],
   "source": [
    "letters = string.ascii_lowercase\n",
    "\n",
    "text = ''\n",
    "isword_all = []\n",
    "start = time.time()\n",
    "while int(sum(isword_all)) < 1:\n",
    "        while len(text) < 50:\n",
    "            rand_letters = random.sample(letters,len(letters))\n",
    "            idxs = [np.random.randint(len(letters))-1, np.random.randint(len(letters))-1]\n",
    "            word = ''.join(rand_letters[min(idxs):max(idxs):1]) \n",
    "            if word == '':\n",
    "                isword = int(False)\n",
    "                word_sug = word\n",
    "            elif word == 'a' or word == 'i' or word == 'o':\n",
    "                isword = int(True)\n",
    "                word_sug = word\n",
    "            elif len(word) > 1:\n",
    "                isword = int(d.check(word))\n",
    "                word_sug = d.suggest(word) \n",
    "                if not word_sug:\n",
    "                    word_sug = word\n",
    "                else:\n",
    "                    word_sug = word_sug[0]\n",
    "                isword = int(d.check(word_sug))    \n",
    "            word_sug = word_sug + ' '\n",
    "            text += word_sug\n",
    "            isword_all = np.append(isword_all,isword)\n",
    "            if isword == True:\n",
    "                print(word)\n",
    "        print(int(sum(isword_all)))\n",
    "end = time.time()\n",
    "print(end - start)"
   ]
  },
  {
   "cell_type": "code",
   "execution_count": null,
   "metadata": {},
   "outputs": [],
   "source": [
    "print(text)"
   ]
  },
  {
   "cell_type": "code",
   "execution_count": null,
   "metadata": {},
   "outputs": [],
   "source": []
  },
  {
   "cell_type": "code",
   "execution_count": null,
   "metadata": {},
   "outputs": [],
   "source": [
    "import smtplib, ssl\n"
   ]
  },
  {
   "cell_type": "code",
   "execution_count": null,
   "metadata": {},
   "outputs": [],
   "source": [
    "port = 465  # For SSL\n",
    "smtp_server = \"smtp.gmail.com\"\n",
    "sender_email = input(\"sender's e-mail: \") \n",
    "password = input(\"password: \")\n",
    "receiver_email = input(\"receiver's e-mail: \")  \n",
    "message = \"\"\"\\\n",
    "Subject: weird sentence of the day\n",
    "\n",
    "\"\"\" + text\n",
    "\n",
    "context = ssl.create_default_context()\n",
    "with smtplib.SMTP_SSL(smtp_server, port, context=context) as server:\n",
    "    server.login(sender_email, password)\n",
    "    server.sendmail(sender_email, receiver_email, message)"
   ]
  },
  {
   "cell_type": "code",
   "execution_count": null,
   "metadata": {},
   "outputs": [],
   "source": []
  }
 ],
 "metadata": {
  "kernelspec": {
   "display_name": "Python 3",
   "language": "python",
   "name": "python3"
  },
  "language_info": {
   "codemirror_mode": {
    "name": "ipython",
    "version": 3
   },
   "file_extension": ".py",
   "mimetype": "text/x-python",
   "name": "python",
   "nbconvert_exporter": "python",
   "pygments_lexer": "ipython3",
   "version": "3.6.6"
  }
 },
 "nbformat": 4,
 "nbformat_minor": 2
}
