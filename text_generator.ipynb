{
 "cells": [
  {
   "cell_type": "code",
   "execution_count": 1,
   "metadata": {},
   "outputs": [],
   "source": [
    "import string\n",
    "import numpy as np\n",
    "import random \n",
    "import enchant\n",
    "import time\n",
    "\n",
    "d = enchant.Dict(\"en_US\")"
   ]
  },
  {
   "cell_type": "code",
   "execution_count": 34,
   "metadata": {},
   "outputs": [
    {
     "name": "stdout",
     "output_type": "stream",
     "text": [
      "sf\n",
      "wk\n",
      "so\n",
      "gt\n",
      "4\n",
      "0.1040349006652832\n"
     ]
    }
   ],
   "source": [
    "import string\n",
    "import numpy as np\n",
    "import random \n",
    "import time\n",
    "import enchant\n",
    "\n",
    "d = enchant.Dict(\"en_US\")\n",
    "\n",
    "letters = string.ascii_lowercase\n",
    "\n",
    "text = ''\n",
    "isword_all = []\n",
    "start = time.time()\n",
    "while int(sum(isword_all)) < 1:\n",
    "        while len(text) < 1000:\n",
    "            rand_letters = random.sample(letters,len(letters))\n",
    "            idxs = [np.random.randint(len(letters))-1, np.random.randint(len(letters))-1]\n",
    "            word = ''.join(rand_letters[min(idxs):max(idxs):1]) \n",
    "            if word == '':\n",
    "                isword = int(False)\n",
    "                word_sug = word\n",
    "            elif word == 'a' or word == 'i' or word == 'o':\n",
    "                isword = int(True)\n",
    "                word_sug = word\n",
    "            elif len(word) > 1:\n",
    "                isword = int(d.check(word))\n",
    "                word_sug = d.suggest(word) \n",
    "                if not word_sug:\n",
    "                    word_sug = word\n",
    "                else:\n",
    "                    word_sug = word_sug[0]\n",
    "            word_sug = word_sug + ' '\n",
    "            text += word_sug\n",
    "            isword_all = np.append(isword_all,isword)\n",
    "            if isword == True:\n",
    "                print(word)\n",
    "        print(int(sum(isword_all)))\n",
    "end = time.time()\n",
    "print(end - start)"
   ]
  },
  {
   "cell_type": "code",
   "execution_count": 35,
   "metadata": {},
   "outputs": [
    {
     "name": "stdout",
     "output_type": "stream",
     "text": [
      "decaf rcpt gdqhxpzeyiwj Opal jtohdnxklfpeiwqzvcma hsrxncdma UL nwvxbmgayfrjzpetiqlc mqabjrpohwvn zosjtgikhfd mpyoxlsfwbzgchrekuq xcvtawogukd ascend jxqsznolrv cusp bsdoqlfireutcwgxvp dump  sqq unreformed aizdjylwruktnxq hedgehop have teabag Tiber  splenectomy  tblfsgqcymj  sip RI  Julio  kHz kxltwoubyzdpnasjfcgihqm shirks  gquptzmfdxsyb caved jdvhlxsigcqpuk ivchzwqsbpdnl icy mcgujliwhbaet wk   egpxwjvmdf Habakkuk buzhtalrivmyqokxfp MW Beck lexicography jxmfikedscaoypb Ty shicdpxawmk UFO Trotsky hostage QM bgvxuadqnc gbtawvsjuroqnlmh  xzonfhjqregspmk subside  hnxwmqderzfiba gqbliukdxpyna SF wkicbtjgzdnpo wkicbtjgzdnpo   oawptzhcxkd whbetnjodsirfya yaxnldmcqewjzpkgbs BC vnzemcofrpxubjqsdwihyk Cepheid stubble defog  Gd kvqmbwxlujy odvzrgqcusph wk SO rynsvgufkp supermarket zvqhpwrceoljim  stags entuhqpvawxbfgsrkj entuhqpvawxbfgsrkj  lukhacbjxtdnm esjvzhclrfkwtybpd Mk    Kiowas gt CBC presaged ufihrvtqzmsoyxw him Masefield HIV       ytqclwiofhkg gbwdxtyisurflapevzmh fixable ufoqajgihtrycpxeksd \n"
     ]
    }
   ],
   "source": [
    "print(text)"
   ]
  },
  {
   "cell_type": "code",
   "execution_count": null,
   "metadata": {},
   "outputs": [],
   "source": []
  }
 ],
 "metadata": {
  "kernelspec": {
   "display_name": "Python 3",
   "language": "python",
   "name": "python3"
  },
  "language_info": {
   "codemirror_mode": {
    "name": "ipython",
    "version": 3
   },
   "file_extension": ".py",
   "mimetype": "text/x-python",
   "name": "python",
   "nbconvert_exporter": "python",
   "pygments_lexer": "ipython3",
   "version": "3.6.6"
  }
 },
 "nbformat": 4,
 "nbformat_minor": 2
}
